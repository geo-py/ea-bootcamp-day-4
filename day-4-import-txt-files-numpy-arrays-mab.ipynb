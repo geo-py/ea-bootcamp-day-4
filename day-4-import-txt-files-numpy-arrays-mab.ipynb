{
 "cells": [
  {
   "cell_type": "code",
   "execution_count": 1,
   "metadata": {},
   "outputs": [
    {
     "name": "stdout",
     "output_type": "stream",
     "text": [
      "import of packages successful\n"
     ]
    }
   ],
   "source": [
    "#import necessary Python packages\n",
    "import os\n",
    "import numpy as np\n",
    "import urllib.request\n",
    "\n",
    "#print message after packages imported succesfully\n",
    "print(\"import of packages successful\")"
   ]
  },
  {
   "cell_type": "code",
   "execution_count": 2,
   "metadata": {},
   "outputs": [
    {
     "data": {
      "text/plain": [
       "'C:\\\\Users\\\\markb\\\\earth-analytics-bootcamp\\\\ea-bootcamp-day-4'"
      ]
     },
     "execution_count": 2,
     "metadata": {},
     "output_type": "execute_result"
    }
   ],
   "source": [
    "os.getcwd()"
   ]
  },
  {
   "cell_type": "code",
   "execution_count": 3,
   "metadata": {},
   "outputs": [
    {
     "data": {
      "text/plain": [
       "'C:\\\\Users\\\\markb\\\\earth-analytics-bootcamp'"
      ]
     },
     "execution_count": 3,
     "metadata": {},
     "output_type": "execute_result"
    }
   ],
   "source": [
    "# set the working directory to the 'earth-analytics-bootcamp' directory\n",
    "os.chdir(\"C:\\\\Users\\\\markb\\\\earth-analytics-bootcamp\")\n",
    "\n",
    "# print the current working directory\n",
    "os.getcwd()"
   ]
  },
  {
   "cell_type": "code",
   "execution_count": 6,
   "metadata": {},
   "outputs": [
    {
     "name": "stdout",
     "output_type": "stream",
     "text": [
      "datasets downloaded successfully\n"
     ]
    }
   ],
   "source": [
    "# 'urlib' download files from Earth Lab figshare repository\n",
    "\n",
    "# download .txt containing monthly average precipitation for Boulder, CO\n",
    "urllib.request.urlretrieve(url = \"https://ndownloader.figshare.com/files/12565616\",\n",
    "                           filename = \"data/avg-monthly-precip.txt\")\n",
    "\n",
    "# download .txt containing monthly names\n",
    "urllib.request.urlretrieve(url = \"https://ndownloader.figshare.com/files/12565619\",\n",
    "                           filename = \"data/months.txt\")\n",
    "                            \n",
    "\n",
    "#print message that data downloads were successful\n",
    "print(\"datasets downloaded successfully\")\n"
   ]
  },
  {
   "cell_type": "code",
   "execution_count": 9,
   "metadata": {},
   "outputs": [],
   "source": [
    "# set the working directory to earth-analytics-bootcamp\\\\data\n",
    "\n",
    "os.chdir(\"C:\\\\Users\\\\markb\\\\earth-analytics-bootcamp\\\\data\")"
   ]
  },
  {
   "cell_type": "code",
   "execution_count": 10,
   "metadata": {},
   "outputs": [
    {
     "name": "stdout",
     "output_type": "stream",
     "text": [
      "[0.7  0.75 1.85 2.93 3.05 2.02 1.93 1.62 1.84 1.31 1.39 0.84]\n"
     ]
    }
   ],
   "source": [
    "#import the monthly average values from 'avg-monthly-precip.txt' as a numpy array\n",
    "\n",
    "avg_monthly_precip = np.loadtxt(fname = \"/users/markb/earth-analytics-bootcamp/data/avg-monthly-precip.txt\")\n",
    "\n",
    "#print the data in 'avg_monthly_precip'\n",
    "print(avg_monthly_precip)\n"
   ]
  },
  {
   "cell_type": "code",
   "execution_count": 11,
   "metadata": {},
   "outputs": [
    {
     "name": "stdout",
     "output_type": "stream",
     "text": [
      "<class 'numpy.ndarray'>\n"
     ]
    }
   ],
   "source": [
    "#print the type of the 'avg_monthly_precip' variable\n",
    "print(type(avg_monthly_precip))"
   ]
  },
  {
   "cell_type": "code",
   "execution_count": 12,
   "metadata": {},
   "outputs": [
    {
     "name": "stdout",
     "output_type": "stream",
     "text": [
      "<class 'numpy.ndarray'>\n",
      "['Jan' 'Feb' 'Mar' 'Apr' 'May' 'June' 'July' 'Aug' 'Sept' 'Oct' 'Nov'\n",
      " 'Dec']\n"
     ]
    }
   ],
   "source": [
    "# import the names of the months from month.txt as a numpy array\n",
    "months = np.genfromtxt(\"/users/markb/earth-analytics-bootcamp/data/months.txt\", dtype='str')\n",
    "\n",
    "# print the type for the 'months' variable\n",
    "print(type(months))\n",
    "\n",
    "# print the values in 'months'\n",
    "print(months)\n",
    "\n"
   ]
  },
  {
   "cell_type": "code",
   "execution_count": 16,
   "metadata": {},
   "outputs": [
    {
     "name": "stdout",
     "output_type": "stream",
     "text": [
      "datasets downloaded successfully\n"
     ]
    }
   ],
   "source": [
    "#Optional Challenge\n",
    "# set the working directory to the 'earth-analytics-bootcamp' directory\n",
    "os.chdir(\"C:\\\\Users\\\\markb\\\\earth-analytics-bootcamp\")\n",
    "\n",
    "# download .csv containing monthly precip for Boulder, CO for 2002 and 2013\n",
    "urllib.request.urlretrieve(url = \"https://ndownloader.figshare.com/files/12707792\",\n",
    "                           filename = \"data/precip_2002_2013.csv\")\n",
    "                            \n",
    "\n",
    "#print message that data downloads were successful\n",
    "print(\"datasets downloaded successfully\")"
   ]
  },
  {
   "cell_type": "code",
   "execution_count": 17,
   "metadata": {},
   "outputs": [],
   "source": [
    "# set the working directory to earth-analytics-bootcamp\\\\data\n",
    "os.chdir(\"C:\\\\Users\\\\markb\\\\earth-analytics-bootcamp\\\\data\")"
   ]
  },
  {
   "cell_type": "code",
   "execution_count": 22,
   "metadata": {},
   "outputs": [
    {
     "name": "stdout",
     "output_type": "stream",
     "text": [
      "<class 'numpy.ndarray'>\n",
      "[[ 1.07  0.44  1.5   0.2   3.2   1.18  0.09  1.44  1.52  2.44  0.78  0.02]\n",
      " [ 0.27  1.13  1.72  4.14  2.66  0.61  1.03  1.4  18.16  2.24  0.29  0.5 ]]\n",
      "[0.7  0.75 1.85 2.93 3.05 2.02 1.93 1.62 1.84 1.31 1.39 0.84]\n"
     ]
    }
   ],
   "source": [
    "# import the data from precip_2002_2013 as a numpy array\n",
    "precip_2002_2013 = np.loadtxt(fname = \"/users/markb/earth-analytics-bootcamp/data/precip_2002_2013.csv\", delimiter=',')\n",
    "\n",
    "# print the  data type for 'precip_2002_2013'\n",
    "print(type(precip_2002_2013))\n",
    "\n",
    "# display values as floats rather than scientific notation\n",
    "np.set_printoptions(suppress=True)\n",
    "\n",
    "# print the values in 'precip_2002_2013'\n",
    "print(precip_2002_2013)\n",
    "\n",
    "# print the values in avg_monthly_precip\n",
    "print(avg_monthly_precip)"
   ]
  },
  {
   "cell_type": "code",
   "execution_count": null,
   "metadata": {},
   "outputs": [],
   "source": []
  }
 ],
 "metadata": {
  "kernelspec": {
   "display_name": "Python 3",
   "language": "python",
   "name": "python3"
  },
  "language_info": {
   "codemirror_mode": {
    "name": "ipython",
    "version": 3
   },
   "file_extension": ".py",
   "mimetype": "text/x-python",
   "name": "python",
   "nbconvert_exporter": "python",
   "pygments_lexer": "ipython3",
   "version": "3.7.0"
  }
 },
 "nbformat": 4,
 "nbformat_minor": 2
}
